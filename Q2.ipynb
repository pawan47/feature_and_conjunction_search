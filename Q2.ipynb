{
 "cells": [
  {
   "cell_type": "code",
   "execution_count": 7,
   "metadata": {},
   "outputs": [],
   "source": [
    "import numpy as np\n",
    "import random\n",
    "import cv2\n",
    "import matplotlib.pyplot as plt\n",
    "from detect import detect\n",
    "from detect_col import detect_col\n",
    "import random"
   ]
  },
  {
   "cell_type": "code",
   "execution_count": 8,
   "metadata": {},
   "outputs": [],
   "source": [
    "def genMat(size):\n",
    "    \n",
    "    return np.array([[[255]*3]*size*10]*size*10)\n",
    "\n",
    "\n",
    "def getPoints(random_nums, size):\n",
    "    points = []\n",
    "    x = 0\n",
    "    t = [x]\n",
    "    for i in range(9):\n",
    "        x = x + size\n",
    "        t.append(x)\n",
    "    for i in t:\n",
    "        for j in t:\n",
    "            points.append((i, j))\n",
    "            \n",
    "    return points\n"
   ]
  },
  {
   "cell_type": "code",
   "execution_count": 9,
   "metadata": {},
   "outputs": [],
   "source": [
    "def shape_map_f(M, req_points):\n",
    "    \n",
    "    \n",
    "    for i in req_points:\n",
    "        flag, corners = detect(M[i[0]:i[0]+72, i[1]:i[1]+72,:])\n",
    "        \n",
    "        if flag == 0:\n",
    "            print('detected square at point', i)\n",
    "\n",
    "        elif flag == 1:\n",
    "            print('detected triangle at point', i)\n",
    "        else:\n",
    "            print('detected background at point',i)\n"
   ]
  },
  {
   "cell_type": "code",
   "execution_count": 10,
   "metadata": {},
   "outputs": [],
   "source": [
    "def color_map_f(M, req_points):\n",
    "    for i in req_points:\n",
    "        \n",
    "        flag = detect_col(M[i[0]:i[0]+72, i[1]:i[1]+72,:])\n",
    "\n",
    "        if flag == 0:\n",
    "            print('red color detected at point',i)\n",
    "        if flag == 1:\n",
    "            print('blue color detected at point',i)\n",
    "\n"
   ]
  },
  {
   "cell_type": "code",
   "execution_count": 11,
   "metadata": {},
   "outputs": [],
   "source": [
    "def genFeature(random_nums, size=72,in_shape = True,in_col = False):\n",
    "    req_points = []\n",
    "    \n",
    "    M = genMat(size)\n",
    "\n",
    "    points = getPoints(random_nums, size)\n",
    "    sel_list = random.sample(range(100), random_nums)\n",
    "    \n",
    "    x = points[sel_list[0]][0]\n",
    "    y = points[sel_list[0]][1]\n",
    "    \n",
    "    req_points.append((x,y))\n",
    "    dec = random.uniform(0,1)\n",
    "    if in_shape == True:\n",
    "        if dec >.5:\n",
    "            M[x:x+72, y:y+72, :] = red_tri\n",
    "            for i in sel_list[1:]:\n",
    "                x = points[i][0]\n",
    "                y = points[i][1]\n",
    "                M[x:x+72, y:y+72] = red_sqr    \n",
    "                req_points.append((x,y))\n",
    "        else:\n",
    "            M[x:x+72, y:y+72, :] = blue_tri\n",
    "            for i in sel_list[1:]:\n",
    "                x = points[i][0]\n",
    "                y = points[i][1]\n",
    "                M[x:x+72, y:y+72] = blue_sqr  \n",
    "                req_points.append((x,y))\n",
    "\n",
    "    if in_col == True:\n",
    "        if dec > .5:\n",
    "            M[x:x+72, y:y+72, :] = blue_sqr\n",
    "            for i in sel_list[1:]:\n",
    "                x = points[i][0]\n",
    "                y = points[i][1]\n",
    "                M[x:x+72, y:y+72] = red_sqr    \n",
    "                req_points.append((x,y))\n",
    "        else:\n",
    "            M[x:x+72, y:y+72, :] = red_tri\n",
    "            for i in sel_list[1:]:\n",
    "                x = points[i][0]\n",
    "                y = points[i][1]\n",
    "                M[x:x+72, y:y+72] = blue_tri \n",
    "                req_points.append((x,y))\n",
    "            #make an thresholding function\n",
    "\n",
    "    \n",
    "    return M, req_points,in_col\n"
   ]
  },
  {
   "cell_type": "code",
   "execution_count": 12,
   "metadata": {},
   "outputs": [],
   "source": [
    "red_tri = cv2.resize(cv2.cvtColor(cv2.imread('red_tri.png'), cv2.COLOR_BGR2RGB), (72, 72))\n",
    "blue_tri = cv2.resize(cv2.cvtColor(cv2.imread('blue_tri.png'), cv2.COLOR_BGR2RGB), (72, 72))\n",
    "red_sqr = cv2.resize(cv2.cvtColor(cv2.imread('red_sqr.png'), cv2.COLOR_BGR2RGB), (72, 72))\n",
    "blue_sqr = cv2.resize(cv2.cvtColor(cv2.imread('blue_sqr.png'), cv2.COLOR_BGR2RGB), (72, 72))"
   ]
  },
  {
   "cell_type": "code",
   "execution_count": 15,
   "metadata": {},
   "outputs": [],
   "source": [
    "def make_shape(shape_odd,color_odd):\n",
    "    if shape_odd == 0:\n",
    "        if color_odd ==0:\n",
    "            return red_sqr\n",
    "        else:\n",
    "            return blue_sqr\n",
    "    else:\n",
    "        if color_odd == 0:\n",
    "            return red_tri\n",
    "        else:\n",
    "            return blue_tri"
   ]
  },
  {
   "cell_type": "code",
   "execution_count": 16,
   "metadata": {},
   "outputs": [],
   "source": [
    "def shape_map(M, req_points):\n",
    "    flags = []\n",
    "    for i in req_points:\n",
    "        flag, corners = detect(M[i[0]:i[0]+72, i[1]:i[1]+72,:])\n",
    "        \n",
    "        if flag == 0:\n",
    "            flags.append(0)\n",
    "\n",
    "        if flag == 1:\n",
    "            flags.append(1)\n",
    "    return flags"
   ]
  },
  {
   "cell_type": "code",
   "execution_count": 17,
   "metadata": {},
   "outputs": [],
   "source": [
    "def color_map(M, req_points):\n",
    "    flags =[]\n",
    "    for i in req_points:\n",
    "        \n",
    "        flag = detect_col(M[i[0]:i[0]+72, i[1]:i[1]+72,:])\n",
    "\n",
    "        if flag == 0:\n",
    "            flags.append(0)\n",
    "        if flag == 1:\n",
    "            flags.append(1)\n",
    "    return flags"
   ]
  },
  {
   "cell_type": "code",
   "execution_count": 29,
   "metadata": {},
   "outputs": [],
   "source": [
    "def conjucmake(random_nums, size=72,shape_odd = 0,color_odd = 0):  # 0 == red  0 == square,\n",
    "    \n",
    "    req_points = []\n",
    "    \n",
    "    M = genMat(size)\n",
    "\n",
    "    points = getPoints(random_nums, size)\n",
    "    sel_list = random.sample(range(100), random_nums)\n",
    "    \n",
    "    x,y = points[sel_list.pop()]\n",
    "    req_points.append((x,y))\n",
    "    \n",
    "    \n",
    "    M[x:x+72, y:y+72] = make_shape(shape_odd,color_odd)\n",
    "    #print(shape_odd,color_odd)\n",
    "    \n",
    "    random_nums -=1\n",
    "    kk = int(random_nums/2)\n",
    "    k = random.randint(0,kk)\n",
    "    \n",
    "    random_nums -= k\n",
    "    #print(k)\n",
    "    #print(sel_list)\n",
    "    \n",
    "    for i in range(k):\n",
    "        pp = sel_list.pop()\n",
    "        x,y = points[pp]\n",
    "        M[x:x+72, y:y+72] = make_shape(shape_odd,1 -color_odd)\n",
    "        #print(1-shape_odd,color_odd)\n",
    "        req_points.append((x,y))\n",
    "    \n",
    "    \n",
    "    \n",
    "    \n",
    "    \n",
    "    k = random.randint(0,random_nums)\n",
    "    #print(k)\n",
    "    for i in range(k):\n",
    "        pp = sel_list.pop()\n",
    "        x,y = points[pp]\n",
    "        M[x:x+72, y:y+72] = make_shape(1-shape_odd,1-color_odd)\n",
    "        #print(shape_odd,color_odd)\n",
    "        req_points.append((x,y))\n",
    "        \n",
    "    #print(random_nums)\n",
    "    for i in range(k,random_nums):\n",
    "        pp = sel_list.pop()\n",
    "        x,y = points[pp]\n",
    "        M[x:x+72, y:y+72] = make_shape(1-shape_odd,color_odd)\n",
    "        #print(1-shape_odd,color_odd)\n",
    "        req_points.append((x,y))\n",
    "    \n",
    "    return M,req_points\n",
    "    "
   ]
  },
  {
   "cell_type": "code",
   "execution_count": 19,
   "metadata": {},
   "outputs": [],
   "source": [
    "def runconj(M,req_points_):\n",
    "    \n",
    "    shape_flag = shape_map(M,req_points_)\n",
    "    color_flag = color_map(M,req_points_)\n",
    "    dete = []\n",
    "    \n",
    "    for i in range(len(shape_flag)):\n",
    "        if shape_flag[i] == 0:\n",
    "            k = 'red'\n",
    "        else:\n",
    "            k='blue'\n",
    "        if color_flag[i] ==0:\n",
    "            k += ' square'\n",
    "        else:\n",
    "            k += ' triangle'\n",
    "        print(k,'is detected at',req_points_[i])\n",
    "        dete.append(k)\n"
   ]
  },
  {
   "cell_type": "code",
   "execution_count": 32,
   "metadata": {},
   "outputs": [],
   "source": [
    "def q2_para(type_=0,rand_point = 10): #0 = feature\n",
    "    \n",
    "    if type_ == 0:\n",
    "        M_feature, req_points,in_col = genFeature(rand_point, 72,True,False)\n",
    "        print('ppp')\n",
    "        if in_col == False:\n",
    "            shape_map_f(M_feature, req_points)\n",
    "        else:\n",
    "            color_map_f(M_feature, req_points)\n",
    "    else:\n",
    "        shape_odd_ = 0 #square\n",
    "        color_odd_ = 0 #red\n",
    "        Mm,req_points = conjucmake(rand_point, shape_odd = shape_odd_, color_odd = color_odd_)\n",
    "        runconj(Mm,req_points)\n",
    "        "
   ]
  },
  {
   "cell_type": "code",
   "execution_count": 33,
   "metadata": {},
   "outputs": [
    {
     "name": "stdout",
     "output_type": "stream",
     "text": [
      "red square is detected at (432, 144)\n",
      "red triangle is detected at (216, 576)\n",
      "blue triangle is detected at (504, 72)\n",
      "blue triangle is detected at (432, 288)\n",
      "blue triangle is detected at (504, 144)\n",
      "blue square is detected at (216, 216)\n",
      "blue square is detected at (360, 288)\n",
      "blue square is detected at (504, 216)\n",
      "blue square is detected at (0, 432)\n",
      "blue square is detected at (144, 648)\n"
     ]
    }
   ],
   "source": [
    "q2_para(1)"
   ]
  },
  {
   "cell_type": "code",
   "execution_count": null,
   "metadata": {},
   "outputs": [],
   "source": []
  },
  {
   "cell_type": "code",
   "execution_count": null,
   "metadata": {},
   "outputs": [],
   "source": []
  },
  {
   "cell_type": "code",
   "execution_count": null,
   "metadata": {},
   "outputs": [],
   "source": []
  },
  {
   "cell_type": "raw",
   "metadata": {},
   "source": []
  }
 ],
 "metadata": {
  "kernelspec": {
   "display_name": "Python 3",
   "language": "python",
   "name": "python3"
  },
  "language_info": {
   "codemirror_mode": {
    "name": "ipython",
    "version": 3
   },
   "file_extension": ".py",
   "mimetype": "text/x-python",
   "name": "python",
   "nbconvert_exporter": "python",
   "pygments_lexer": "ipython3",
   "version": "3.7.1"
  }
 },
 "nbformat": 4,
 "nbformat_minor": 2
}
