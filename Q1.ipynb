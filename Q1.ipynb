{
 "cells": [
  {
   "cell_type": "code",
   "execution_count": 11,
   "metadata": {},
   "outputs": [],
   "source": [
    "import cv2\n",
    "import numpy as np\n",
    "import os\n",
    "%matplotlib inline\n",
    "import matplotlib.pyplot as plt\n",
    "import matplotlib.image as mping"
   ]
  },
  {
   "cell_type": "code",
   "execution_count": 12,
   "metadata": {},
   "outputs": [],
   "source": [
    "blue_tri = cv2.imread('images/ho_blue_tri.png')[:,:,::-1]\n",
    "blue_sq = cv2.imread('images/blue_sq.png')[:,:,::-1]\n",
    "red_sq = cv2.imread('images/red_sq.png')[:,:,::-1]\n",
    "red_tri = cv2.imread('images/ho_red_tri.png')[:,:,::-1]"
   ]
  },
  {
   "cell_type": "code",
   "execution_count": 13,
   "metadata": {},
   "outputs": [
    {
     "data": {
      "text/plain": [
       "<matplotlib.image.AxesImage at 0x7f61bd759b70>"
      ]
     },
     "execution_count": 13,
     "metadata": {},
     "output_type": "execute_result"
    },
    {
     "data": {
      "image/png": "[encoded data removed]",
      "text/plain": [
       "<Figure size 432x288 with 1 Axes>"
      ]
     },
     "metadata": {
      "needs_background": "light"
     },
     "output_type": "display_data"
    }
   ],
   "source": [
    "plt.imshow(red_sq)"
   ]
  },
  {
   "cell_type": "code",
   "execution_count": 14,
   "metadata": {},
   "outputs": [],
   "source": [
    "def trans(a):\n",
    "    return .299*a[:,:,0] + .402*a[:,:,1] + .299*a[:,:,2]"
   ]
  },
  {
   "cell_type": "code",
   "execution_count": 15,
   "metadata": {},
   "outputs": [],
   "source": [
    "def give_non_zero(mat):\n",
    "    co = []\n",
    "    for i in range(72):\n",
    "        for j in range(72):\n",
    "            if mat[i,j] > 0:\n",
    "                co.append([i,j])\n",
    "    return co"
   ]
  },
  {
   "cell_type": "code",
   "execution_count": 16,
   "metadata": {},
   "outputs": [],
   "source": [
    "def detect_sq(image):\n",
    "    g_kernel = cv2.getGaborKernel((8,8), 4.0, 0, 5, 0, 0)\n",
    "    g_ = cv2.getGaborKernel((8,8), 4.0,np.pi/2 , 5, 0, 0)\n",
    "    mj = cv2.filter2D(image,0, g_kernel)  * cv2.filter2D(image,0, g_)\n",
    "    corner = give_non_zero(mj)\n",
    "    return corner"
   ]
  },
  {
   "cell_type": "code",
   "execution_count": 17,
   "metadata": {},
   "outputs": [],
   "source": [
    "def detect_tri(image):\n",
    "    corners = []\n",
    "    #================detect top corner====================\n",
    "    h_ = cv2.getGaborKernel((9,9), 6.1,5*np.pi/6 , 8.9, 0, 0)\n",
    "    g_ = cv2.getGaborKernel((9,9), 6.1,1*np.pi/6 , 8.9, 0, 0)\n",
    "\n",
    "    mj =  (cv2.bitwise_not(cv2.filter2D(image, 0, h_)) * cv2.bitwise_not(cv2.filter2D(image, 0, g_)) )\n",
    "    mj = mj.astype('uint8')\n",
    "    top_corner = give_non_zero(mj)\n",
    "    \n",
    "    if len(top_corner) ==2:\n",
    "        top_corner = top_corner[1]\n",
    "    if len(top_corner) > 2:\n",
    "        top_corner = []\n",
    "    \n",
    "    #==============detect side corners1===================\n",
    "    \n",
    "    i_ = cv2.getGaborKernel((9,9), 6,1*np.pi/2 , 7.1, 0, 0)\n",
    "    g_ = cv2.getGaborKernel((9,9), 6.1,1*np.pi/6 , 8.9, 0, 0)\n",
    "\n",
    "    mj =  (((cv2.filter2D(image, 0, i_)))* cv2.bitwise_not(cv2.filter2D(image, 0, g_))) /2\n",
    "    mj = mj.astype('uint8')\n",
    "    side_corner1 = give_non_zero(mj)\n",
    "    \n",
    "    if len(side_corner1) == 1:\n",
    "        side_corner1 = side_corner1[0]\n",
    "        \n",
    "    #==============detect side corner2===================\n",
    "    \n",
    "    i_ = cv2.getGaborKernel((9,9), 6,1*np.pi/2 , 7.1, 0, 0)\n",
    "    g_ = cv2.getGaborKernel((9,9), 6.1,5*np.pi/6 , 8.9, 0, 0)\n",
    "\n",
    "    mj =  (((cv2.filter2D(image, 0, i_)))* cv2.bitwise_not(cv2.filter2D(image, 0, g_))) /2\n",
    "    mj = mj.astype('uint8')\n",
    "    side_corner2 = give_non_zero(mj)\n",
    "    \n",
    "    if len(side_corner2) == 1:\n",
    "        side_corner2 = side_corner2[0]\n",
    "    \n",
    "    corner = [top_corner,side_corner1,side_corner2]\n",
    "    return corner\n",
    "        "
   ]
  },
  {
   "cell_type": "code",
   "execution_count": 38,
   "metadata": {},
   "outputs": [],
   "source": [
    "def detect(image):\n",
    "    im = trans(image)\n",
    "    im = im.astype('uint8')\n",
    "    img = cv2.resize(im,(72,72))\n",
    "    sq_corner = detect_sq(img) \n",
    "    tri_corner = detect_tri(img)\n",
    "    flag = 0\n",
    "    if len(sq_corner)>0:\n",
    "        flag = 1\n",
    "        print('its a square')\n",
    "        return flag,sq_corner\n",
    "    elif len(tri_corner)>0:\n",
    "        flag = 2\n",
    "        print('its a triagle')\n",
    "        return flag,tri_corner\n",
    "    else:\n",
    "        print('empty')\n",
    "        return flag,[]"
   ]
  },
  {
   "cell_type": "code",
   "execution_count": 60,
   "metadata": {},
   "outputs": [
    {
     "name": "stdout",
     "output_type": "stream",
     "text": [
      "its a triagle\n"
     ]
    },
    {
     "data": {
      "image/png": "[encoded data removed]",
      "text/plain": [
       "<Figure size 432x288 with 1 Axes>"
      ]
     },
     "metadata": {
      "needs_background": "light"
     },
     "output_type": "display_data"
    }
   ],
   "source": [
    "ml = red_tri\n",
    "plt.imshow(ml, cmap=\"gray\")\n",
    "\n",
    "flag,corners = detect(ml)\n",
    "\n",
    "if flag == 1:\n",
    "    plt.title(\"Detected Square using gabor filter\")\n",
    "\n",
    "if flag == 2:\n",
    "    plt.title(\"Detected triangle using gabor filter\")\n",
    "plt.show()\n"
   ]
  },
  {
   "cell_type": "code",
   "execution_count": null,
   "metadata": {},
   "outputs": [],
   "source": []
  },
  {
   "cell_type": "code",
   "execution_count": null,
   "metadata": {},
   "outputs": [],
   "source": []
  },
  {
   "cell_type": "code",
   "execution_count": 61,
   "metadata": {},
   "outputs": [],
   "source": [
    "from detect import detect"
   ]
  },
  {
   "cell_type": "code",
   "execution_count": null,
   "metadata": {},
   "outputs": [],
   "source": []
  }
 ],
 "metadata": {
  "kernelspec": {
   "display_name": "Python 3",
   "language": "python",
   "name": "python3"
  },
  "language_info": {
   "codemirror_mode": {
    "name": "ipython",
    "version": 3
   },
   "file_extension": ".py",
   "mimetype": "text/x-python",
   "name": "python",
   "nbconvert_exporter": "python",
   "pygments_lexer": "ipython3",
   "version": "3.7.1"
  }
 },
 "nbformat": 4,
 "nbformat_minor": 2
}
