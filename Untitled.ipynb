{
 "cells": [
  {
   "cell_type": "code",
   "execution_count": 77,
   "metadata": {},
   "outputs": [],
   "source": [
    "import cv2\n",
    "import numpy as np\n",
    "import os"
   ]
  },
  {
   "cell_type": "code",
   "execution_count": 78,
   "metadata": {},
   "outputs": [],
   "source": [
    "%matplotlib inline\n",
    "import matplotlib.pyplot as plt\n",
    "import matplotlib.image as mping"
   ]
  },
  {
   "cell_type": "code",
   "execution_count": 79,
   "metadata": {},
   "outputs": [],
   "source": [
    "blue_t = cv2.resize(cv2.cvtColor(cv2.imread('red_triangle.png'), cv2.COLOR_BGR2GRAY),(72,72))"
   ]
  },
  {
   "cell_type": "code",
   "execution_count": 100,
   "metadata": {},
   "outputs": [],
   "source": [
    "blue_t = cv2.resize(cv2.imread('blue_sqaure.png'),(72,72))"
   ]
  },
  {
   "cell_type": "code",
   "execution_count": 219,
   "metadata": {},
   "outputs": [],
   "source": [
    "red_s = np.array([[[255]*3]*72]*72)\n",
    "red_t = np.array([[[255]*3]*72]*72)\n",
    "blue_s = np.array([[[255]*3]*72]*72)\n",
    "blue_t = np.array([[[255]*3]*72]*72)"
   ]
  },
  {
   "cell_type": "code",
   "execution_count": null,
   "metadata": {},
   "outputs": [],
   "source": []
  },
  {
   "cell_type": "code",
   "execution_count": 220,
   "metadata": {},
   "outputs": [
    {
     "data": {
      "text/plain": [
       "(72, 72, 3)"
      ]
     },
     "execution_count": 220,
     "metadata": {},
     "output_type": "execute_result"
    }
   ],
   "source": [
    "np.array(kk).shape"
   ]
  },
  {
   "cell_type": "code",
   "execution_count": 288,
   "metadata": {},
   "outputs": [],
   "source": [
    "# red square\n",
    "#rgb channel\n",
    "\n",
    "for i in range(52):\n",
    "    for j in range(52):\n",
    "        red_s[10+i,10+j,1:3] = 0\n",
    "\n",
    "for i in range(52):\n",
    "    for j in range(52):\n",
    "        blue_s[10+i,10+j,0:2] = 0\n",
    "        \n",
    "for i in range(20):\n",
    "    for j in range(-i,i,1):\n",
    "        red_t[10+i,10+j,1:3] = 0"
   ]
  },
  {
   "cell_type": "code",
   "execution_count": 290,
   "metadata": {},
   "outputs": [
    {
     "name": "stdout",
     "output_type": "stream",
     "text": [
      "1 -1\n",
      "1 0\n",
      "2 -2\n",
      "2 -1\n",
      "2 0\n",
      "2 1\n",
      "3 -3\n",
      "3 -2\n",
      "3 -1\n",
      "3 0\n",
      "3 1\n",
      "3 2\n",
      "4 -4\n",
      "4 -3\n",
      "4 -2\n",
      "4 -1\n",
      "4 0\n",
      "4 1\n",
      "4 2\n",
      "4 3\n",
      "5 -5\n",
      "5 -4\n",
      "5 -3\n",
      "5 -2\n",
      "5 -1\n",
      "5 0\n",
      "5 1\n",
      "5 2\n",
      "5 3\n",
      "5 4\n",
      "6 -6\n",
      "6 -5\n",
      "6 -4\n",
      "6 -3\n",
      "6 -2\n",
      "6 -1\n",
      "6 0\n",
      "6 1\n",
      "6 2\n",
      "6 3\n",
      "6 4\n",
      "6 5\n",
      "7 -7\n",
      "7 -6\n",
      "7 -5\n",
      "7 -4\n",
      "7 -3\n",
      "7 -2\n",
      "7 -1\n",
      "7 0\n",
      "7 1\n",
      "7 2\n",
      "7 3\n",
      "7 4\n",
      "7 5\n",
      "7 6\n",
      "8 -8\n",
      "8 -7\n",
      "8 -6\n",
      "8 -5\n",
      "8 -4\n",
      "8 -3\n",
      "8 -2\n",
      "8 -1\n",
      "8 0\n",
      "8 1\n",
      "8 2\n",
      "8 3\n",
      "8 4\n",
      "8 5\n",
      "8 6\n",
      "8 7\n",
      "9 -9\n",
      "9 -8\n",
      "9 -7\n",
      "9 -6\n",
      "9 -5\n",
      "9 -4\n",
      "9 -3\n",
      "9 -2\n",
      "9 -1\n",
      "9 0\n",
      "9 1\n",
      "9 2\n",
      "9 3\n",
      "9 4\n",
      "9 5\n",
      "9 6\n",
      "9 7\n",
      "9 8\n",
      "10 -10\n",
      "10 -9\n",
      "10 -8\n",
      "10 -7\n",
      "10 -6\n",
      "10 -5\n",
      "10 -4\n",
      "10 -3\n",
      "10 -2\n",
      "10 -1\n",
      "10 0\n",
      "10 1\n",
      "10 2\n",
      "10 3\n",
      "10 4\n",
      "10 5\n",
      "10 6\n",
      "10 7\n",
      "10 8\n",
      "10 9\n",
      "11 -11\n",
      "11 -10\n",
      "11 -9\n",
      "11 -8\n",
      "11 -7\n",
      "11 -6\n",
      "11 -5\n",
      "11 -4\n",
      "11 -3\n",
      "11 -2\n",
      "11 -1\n",
      "11 0\n",
      "11 1\n",
      "11 2\n",
      "11 3\n",
      "11 4\n",
      "11 5\n",
      "11 6\n",
      "11 7\n",
      "11 8\n",
      "11 9\n",
      "11 10\n",
      "12 -12\n",
      "12 -11\n",
      "12 -10\n",
      "12 -9\n",
      "12 -8\n",
      "12 -7\n",
      "12 -6\n",
      "12 -5\n",
      "12 -4\n",
      "12 -3\n",
      "12 -2\n",
      "12 -1\n",
      "12 0\n",
      "12 1\n",
      "12 2\n",
      "12 3\n",
      "12 4\n",
      "12 5\n",
      "12 6\n",
      "12 7\n",
      "12 8\n",
      "12 9\n",
      "12 10\n",
      "12 11\n",
      "13 -13\n",
      "13 -12\n",
      "13 -11\n",
      "13 -10\n",
      "13 -9\n",
      "13 -8\n",
      "13 -7\n",
      "13 -6\n",
      "13 -5\n",
      "13 -4\n",
      "13 -3\n",
      "13 -2\n",
      "13 -1\n",
      "13 0\n",
      "13 1\n",
      "13 2\n",
      "13 3\n",
      "13 4\n",
      "13 5\n",
      "13 6\n",
      "13 7\n",
      "13 8\n",
      "13 9\n",
      "13 10\n",
      "13 11\n",
      "13 12\n",
      "14 -14\n",
      "14 -13\n",
      "14 -12\n",
      "14 -11\n",
      "14 -10\n",
      "14 -9\n",
      "14 -8\n",
      "14 -7\n",
      "14 -6\n",
      "14 -5\n",
      "14 -4\n",
      "14 -3\n",
      "14 -2\n",
      "14 -1\n",
      "14 0\n",
      "14 1\n",
      "14 2\n",
      "14 3\n",
      "14 4\n",
      "14 5\n",
      "14 6\n",
      "14 7\n",
      "14 8\n",
      "14 9\n",
      "14 10\n",
      "14 11\n",
      "14 12\n",
      "14 13\n",
      "15 -15\n",
      "15 -14\n",
      "15 -13\n",
      "15 -12\n",
      "15 -11\n",
      "15 -10\n",
      "15 -9\n",
      "15 -8\n",
      "15 -7\n",
      "15 -6\n",
      "15 -5\n",
      "15 -4\n",
      "15 -3\n",
      "15 -2\n",
      "15 -1\n",
      "15 0\n",
      "15 1\n",
      "15 2\n",
      "15 3\n",
      "15 4\n",
      "15 5\n",
      "15 6\n",
      "15 7\n",
      "15 8\n",
      "15 9\n",
      "15 10\n",
      "15 11\n",
      "15 12\n",
      "15 13\n",
      "15 14\n",
      "16 -16\n",
      "16 -15\n",
      "16 -14\n",
      "16 -13\n",
      "16 -12\n",
      "16 -11\n",
      "16 -10\n",
      "16 -9\n",
      "16 -8\n",
      "16 -7\n",
      "16 -6\n",
      "16 -5\n",
      "16 -4\n",
      "16 -3\n",
      "16 -2\n",
      "16 -1\n",
      "16 0\n",
      "16 1\n",
      "16 2\n",
      "16 3\n",
      "16 4\n",
      "16 5\n",
      "16 6\n",
      "16 7\n",
      "16 8\n",
      "16 9\n",
      "16 10\n",
      "16 11\n",
      "16 12\n",
      "16 13\n",
      "16 14\n",
      "16 15\n",
      "17 -17\n",
      "17 -16\n",
      "17 -15\n",
      "17 -14\n",
      "17 -13\n",
      "17 -12\n",
      "17 -11\n",
      "17 -10\n",
      "17 -9\n",
      "17 -8\n",
      "17 -7\n",
      "17 -6\n",
      "17 -5\n",
      "17 -4\n",
      "17 -3\n",
      "17 -2\n",
      "17 -1\n",
      "17 0\n",
      "17 1\n",
      "17 2\n",
      "17 3\n",
      "17 4\n",
      "17 5\n",
      "17 6\n",
      "17 7\n",
      "17 8\n",
      "17 9\n",
      "17 10\n",
      "17 11\n",
      "17 12\n",
      "17 13\n",
      "17 14\n",
      "17 15\n",
      "17 16\n",
      "18 -18\n",
      "18 -17\n",
      "18 -16\n",
      "18 -15\n",
      "18 -14\n",
      "18 -13\n",
      "18 -12\n",
      "18 -11\n",
      "18 -10\n",
      "18 -9\n",
      "18 -8\n",
      "18 -7\n",
      "18 -6\n",
      "18 -5\n",
      "18 -4\n",
      "18 -3\n",
      "18 -2\n",
      "18 -1\n",
      "18 0\n",
      "18 1\n",
      "18 2\n",
      "18 3\n",
      "18 4\n",
      "18 5\n",
      "18 6\n",
      "18 7\n",
      "18 8\n",
      "18 9\n",
      "18 10\n",
      "18 11\n",
      "18 12\n",
      "18 13\n",
      "18 14\n",
      "18 15\n",
      "18 16\n",
      "18 17\n",
      "19 -19\n",
      "19 -18\n",
      "19 -17\n",
      "19 -16\n",
      "19 -15\n",
      "19 -14\n",
      "19 -13\n",
      "19 -12\n",
      "19 -11\n",
      "19 -10\n",
      "19 -9\n",
      "19 -8\n",
      "19 -7\n",
      "19 -6\n",
      "19 -5\n",
      "19 -4\n",
      "19 -3\n",
      "19 -2\n",
      "19 -1\n",
      "19 0\n",
      "19 1\n",
      "19 2\n",
      "19 3\n",
      "19 4\n",
      "19 5\n",
      "19 6\n",
      "19 7\n",
      "19 8\n",
      "19 9\n",
      "19 10\n",
      "19 11\n",
      "19 12\n",
      "19 13\n",
      "19 14\n",
      "19 15\n",
      "19 16\n",
      "19 17\n",
      "19 18\n"
     ]
    }
   ],
   "source": [
    "for i in range(20):\n",
    "    for j in range(-i,i,1):\n",
    "        print(i,j)"
   ]
  },
  {
   "cell_type": "code",
   "execution_count": 291,
   "metadata": {},
   "outputs": [
    {
     "data": {
      "text/plain": [
       "<matplotlib.image.AxesImage at 0x7f57eebae048>"
      ]
     },
     "execution_count": 291,
     "metadata": {},
     "output_type": "execute_result"
    },
    {
     "data": {
      "image/png": "[encoded data removed]",
      "text/plain": [
       "<Figure size 432x288 with 1 Axes>"
      ]
     },
     "metadata": {
      "needs_background": "light"
     },
     "output_type": "display_data"
    }
   ],
   "source": [
    "plt.imshow(red_s)"
   ]
  },
  {
   "cell_type": "code",
   "execution_count": 292,
   "metadata": {},
   "outputs": [],
   "source": [
    "# cv2.getGaborKernel(ksize, sigma, theta, lambda, gamma, psi, ktype)\n",
    "# ksize - size of gabor filter (n, n)\n",
    "# sigma - standard deviation of the gaussian function\n",
    "# theta - orientation of the normal to the parallel stripes\n",
    "# lambda - wavelength of the sunusoidal factor\n",
    "# gamma - spatial aspect ratio\n",
    "# psi - phase offset\n",
    "# ktype - type and range of values that each pixel in the gabor kernel can hold\n"
   ]
  },
  {
   "cell_type": "code",
   "execution_count": 313,
   "metadata": {},
   "outputs": [],
   "source": [
    "g_kernel = cv2.getGaborKernel((21, 21), 10.0, np.pi/2, 14, 10, 0, ktype=cv2.CV_32F)"
   ]
  },
  {
   "cell_type": "code",
   "execution_count": 314,
   "metadata": {},
   "outputs": [
    {
     "data": {
      "text/plain": [
       "<matplotlib.image.AxesImage at 0x7f57ee7fc860>"
      ]
     },
     "execution_count": 314,
     "metadata": {},
     "output_type": "execute_result"
    },
    {
     "data": {
      "image/png": "[encoded data removed]",
      "text/plain": [
       "<Figure size 432x288 with 1 Axes>"
      ]
     },
     "metadata": {
      "needs_background": "light"
     },
     "output_type": "display_data"
    }
   ],
   "source": [
    "mj = cv2.filter2D(red_s, cv2.CV_8UC3, g_kernel)\n",
    "plt.imshow(mj)"
   ]
  },
  {
   "cell_type": "code",
   "execution_count": 284,
   "metadata": {},
   "outputs": [
    {
     "data": {
      "text/plain": [
       "255"
      ]
     },
     "execution_count": 284,
     "metadata": {},
     "output_type": "execute_result"
    }
   ],
   "source": [
    "np.max(mj[0:52,0:52,0])"
   ]
  },
  {
   "cell_type": "code",
   "execution_count": 298,
   "metadata": {},
   "outputs": [],
   "source": [
    "h, w = g_kernel.shape[:2]\n",
    "g_kernel = cv2.resize(g_kernel, (3*w, 3*h), interpolation=cv2.INTER_CUBIC)\n"
   ]
  },
  {
   "cell_type": "code",
   "execution_count": 299,
   "metadata": {},
   "outputs": [
    {
     "data": {
      "text/plain": [
       "(63, 63)"
      ]
     },
     "execution_count": 299,
     "metadata": {},
     "output_type": "execute_result"
    }
   ],
   "source": [
    "g_kernel.shape"
   ]
  },
  {
   "cell_type": "code",
   "execution_count": 300,
   "metadata": {},
   "outputs": [
    {
     "data": {
      "text/plain": [
       "<matplotlib.image.AxesImage at 0x7f57eea07cc0>"
      ]
     },
     "execution_count": 300,
     "metadata": {},
     "output_type": "execute_result"
    },
    {
     "data": {
      "image/png": "[encoded data removed]",
      "text/plain": [
       "<Figure size 432x288 with 1 Axes>"
      ]
     },
     "metadata": {
      "needs_background": "light"
     },
     "output_type": "display_data"
    }
   ],
   "source": [
    "plt.imshow(g_kernel)\n"
   ]
  },
  {
   "cell_type": "code",
   "execution_count": 90,
   "metadata": {},
   "outputs": [
    {
     "data": {
      "text/plain": [
       "array([-0.18015172, -0.15318304, -0.09155307, -0.01643873,  0.08953506,\n",
       "        0.18979354,  0.26438022,  0.35559806,  0.44331783,  0.49716455,\n",
       "        0.5440722 ,  0.5819253 ,  0.5895432 ,  0.565263  ,  0.5291317 ,\n",
       "        0.47922835,  0.38093695,  0.27243987,  0.17512105,  0.02916672,\n",
       "       -0.12093233, -0.2351291 , -0.379903  , -0.5203161 , -0.61031866,\n",
       "       -0.6997229 , -0.77709055, -0.80687815, -0.80273926, -0.78297305,\n",
       "       -0.73663646, -0.63351953, -0.5170587 , -0.40674067, -0.23643114,\n",
       "       -0.06036257,  0.07687523,  0.25588062,  0.4305809 ,  0.5462687 ,\n",
       "        0.67059016,  0.782009  ,  0.8348674 ,  0.8606287 ,  0.86976445,\n",
       "        0.84171396,  0.76139253,  0.6670157 ,  0.5699168 ,  0.4146878 ,\n",
       "        0.2531141 ,  0.12352728, -0.04966142, -0.21952507, -0.33513018,\n",
       "       -0.4660561 , -0.5858393 , -0.6490412 , -0.6967794 , -0.7174174 ,\n",
       "       -0.6987197 , -0.6809039 , -0.67914   ], dtype=float32)"
      ]
     },
     "execution_count": 90,
     "metadata": {},
     "output_type": "execute_result"
    }
   ],
   "source": [
    "g_kernel[0]"
   ]
  },
  {
   "cell_type": "code",
   "execution_count": null,
   "metadata": {},
   "outputs": [],
   "source": []
  },
  {
   "cell_type": "code",
   "execution_count": null,
   "metadata": {},
   "outputs": [],
   "source": []
  }
 ],
 "metadata": {
  "kernelspec": {
   "display_name": "Python 3",
   "language": "python",
   "name": "python3"
  },
  "language_info": {
   "codemirror_mode": {
    "name": "ipython",
    "version": 3
   },
   "file_extension": ".py",
   "mimetype": "text/x-python",
   "name": "python",
   "nbconvert_exporter": "python",
   "pygments_lexer": "ipython3",
   "version": "3.7.1"
  }
 },
 "nbformat": 4,
 "nbformat_minor": 2
}
